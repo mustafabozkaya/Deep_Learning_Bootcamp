{
  "nbformat": 4,
  "nbformat_minor": 0,
  "metadata": {
    "colab": {
      "provenance": [],
      "authorship_tag": "ABX9TyM6E+6xM7ZwTi5xpzI3fGS4",
      "include_colab_link": true
    },
    "kernelspec": {
      "name": "python3",
      "display_name": "Python 3"
    },
    "language_info": {
      "name": "python"
    }
  },
  "cells": [
    {
      "cell_type": "markdown",
      "metadata": {
        "id": "view-in-github",
        "colab_type": "text"
      },
      "source": [
        "<a href=\"https://colab.research.google.com/github/mustafabozkaya/Deep_Learning_Bootcamp/blob/master/5_Weeks_of_Deep_Learning_week0_Quize1.ipynb\" target=\"_parent\"><img src=\"https://colab.research.google.com/assets/colab-badge.svg\" alt=\"Open In Colab\"/></a>"
      ]
    },
    {
      "cell_type": "markdown",
      "source": [
        "**Select the correct statement(s) about Tensors. (There can be multiple correct answers, please select all of them)\n",
        "\n",
        "\n",
        "\n",
        "We cannot change the content of a Tensor like strings or numbers in Python\n",
        "\n",
        "\n",
        "Tensors are immutable\n",
        "\n",
        "\n",
        "\n",
        "\n",
        "\n",
        "2.Select the correct option\n",
        "A Tensor is a multidimensional array and can have elements of two or more different data types.\n",
        "\n",
        "\n",
        "\n",
        "True\n",
        "\n",
        "\n",
        "False**"
      ],
      "metadata": {
        "id": "z3W5GK95cJi6"
      }
    },
    {
      "cell_type": "code",
      "execution_count": 2,
      "metadata": {
        "id": "ooHV7i-UYr_y"
      },
      "outputs": [],
      "source": [
        "import tensorflow as tf\n",
        "tensor=tf.constant([\n",
        "\n",
        "           [[0, 1, 2, 3, 4],\n",
        "\n",
        "            [5, 6, 7, 8, 9]],\n",
        "\n",
        "           [[10, 11, 12, 13, 14],\n",
        "\n",
        "            [15, 16, 17, 18, 19]],\n",
        "\n",
        "           [[20, 21, 22, 23, 24],\n",
        "\n",
        "            [25, 26, 27, 28, 29]],])"
      ]
    },
    {
      "cell_type": "code",
      "source": [
        "t[0][1][2]=5 # tensor is immutable like numpy"
      ],
      "metadata": {
        "colab": {
          "base_uri": "https://localhost:8080/",
          "height": 172
        },
        "id": "0xaMCe8YcXSg",
        "outputId": "ea0f4379-a3e7-4208-bcdf-8a3744b1cfb7"
      },
      "execution_count": 17,
      "outputs": [
        {
          "output_type": "error",
          "ename": "TypeError",
          "evalue": "ignored",
          "traceback": [
            "\u001b[0;31m---------------------------------------------------------------------------\u001b[0m",
            "\u001b[0;31mTypeError\u001b[0m                                 Traceback (most recent call last)",
            "\u001b[0;32m<ipython-input-17-b4746997461c>\u001b[0m in \u001b[0;36m<module>\u001b[0;34m\u001b[0m\n\u001b[0;32m----> 1\u001b[0;31m \u001b[0mt\u001b[0m\u001b[0;34m[\u001b[0m\u001b[0;36m0\u001b[0m\u001b[0;34m]\u001b[0m\u001b[0;34m[\u001b[0m\u001b[0;36m1\u001b[0m\u001b[0;34m]\u001b[0m\u001b[0;34m[\u001b[0m\u001b[0;36m2\u001b[0m\u001b[0;34m]\u001b[0m\u001b[0;34m=\u001b[0m\u001b[0;36m5\u001b[0m\u001b[0;34m\u001b[0m\u001b[0;34m\u001b[0m\u001b[0m\n\u001b[0m",
            "\u001b[0;31mTypeError\u001b[0m: 'tensorflow.python.framework.ops.EagerTensor' object does not support item assignment"
          ]
        }
      ]
    },
    {
      "cell_type": "code",
      "source": [
        "tensor.ndim"
      ],
      "metadata": {
        "colab": {
          "base_uri": "https://localhost:8080/"
        },
        "id": "hWip2pKYZGAf",
        "outputId": "d02964b2-31bc-432f-fe95-1d6023b573b4"
      },
      "execution_count": 3,
      "outputs": [
        {
          "output_type": "execute_result",
          "data": {
            "text/plain": [
              "3"
            ]
          },
          "metadata": {},
          "execution_count": 3
        }
      ]
    },
    {
      "cell_type": "code",
      "source": [
        "tensor.shape"
      ],
      "metadata": {
        "colab": {
          "base_uri": "https://localhost:8080/"
        },
        "id": "duio8b23aEYo",
        "outputId": "1ef3d28b-e615-4e52-9cb8-620b8509fc3a"
      },
      "execution_count": 7,
      "outputs": [
        {
          "output_type": "execute_result",
          "data": {
            "text/plain": [
              "TensorShape([3, 2, 5])"
            ]
          },
          "metadata": {},
          "execution_count": 7
        }
      ]
    },
    {
      "cell_type": "code",
      "source": [
        "tensor = tf.constant([2, 14, 10, 12, 15, 3, 2, 5, 15, 78])"
      ],
      "metadata": {
        "id": "iq18CpqlaG4l"
      },
      "execution_count": 8,
      "outputs": []
    },
    {
      "cell_type": "code",
      "source": [
        "tensor[1]"
      ],
      "metadata": {
        "colab": {
          "base_uri": "https://localhost:8080/"
        },
        "id": "zMjzzq27ae-L",
        "outputId": "47363670-f414-4232-fe04-7c51fc3180fb"
      },
      "execution_count": 9,
      "outputs": [
        {
          "output_type": "execute_result",
          "data": {
            "text/plain": [
              "<tf.Tensor: shape=(), dtype=int32, numpy=14>"
            ]
          },
          "metadata": {},
          "execution_count": 9
        }
      ]
    },
    {
      "cell_type": "code",
      "source": [
        "tensor[-1]"
      ],
      "metadata": {
        "colab": {
          "base_uri": "https://localhost:8080/"
        },
        "id": "-M6S6lX9aiA7",
        "outputId": "62f42a83-89e7-4879-985a-0f51fd8bd98c"
      },
      "execution_count": 10,
      "outputs": [
        {
          "output_type": "execute_result",
          "data": {
            "text/plain": [
              "<tf.Tensor: shape=(), dtype=int32, numpy=78>"
            ]
          },
          "metadata": {},
          "execution_count": 10
        }
      ]
    },
    {
      "cell_type": "code",
      "source": [
        "tensor[:5]"
      ],
      "metadata": {
        "colab": {
          "base_uri": "https://localhost:8080/"
        },
        "id": "MNFkN3v7ap-z",
        "outputId": "962f88b7-0e4c-48c8-d73c-742337e831b7"
      },
      "execution_count": 11,
      "outputs": [
        {
          "output_type": "execute_result",
          "data": {
            "text/plain": [
              "<tf.Tensor: shape=(5,), dtype=int32, numpy=array([ 2, 14, 10, 12, 15], dtype=int32)>"
            ]
          },
          "metadata": {},
          "execution_count": 11
        }
      ]
    },
    {
      "cell_type": "code",
      "source": [
        "tensor[::2]"
      ],
      "metadata": {
        "colab": {
          "base_uri": "https://localhost:8080/"
        },
        "id": "GmXkAKbxau3q",
        "outputId": "39443048-118b-4159-fa21-b1e37711a143"
      },
      "execution_count": 12,
      "outputs": [
        {
          "output_type": "execute_result",
          "data": {
            "text/plain": [
              "<tf.Tensor: shape=(5,), dtype=int32, numpy=array([ 2, 10, 15,  2, 15], dtype=int32)>"
            ]
          },
          "metadata": {},
          "execution_count": 12
        }
      ]
    },
    {
      "cell_type": "code",
      "source": [
        "t = [\n",
        "\n",
        "[3, 2, 1],\n",
        "\n",
        "[6, 5, 4],\n",
        "\n",
        "[9, 8, 7]\n",
        "\n",
        "]"
      ],
      "metadata": {
        "id": "eETft2_ua6Bx"
      },
      "execution_count": 13,
      "outputs": []
    },
    {
      "cell_type": "code",
      "source": [
        "t[1][0]"
      ],
      "metadata": {
        "colab": {
          "base_uri": "https://localhost:8080/"
        },
        "id": "PPusLQ-ObEIq",
        "outputId": "9dcc1383-784b-496f-d01c-6f9a09d5624b"
      },
      "execution_count": 14,
      "outputs": [
        {
          "output_type": "execute_result",
          "data": {
            "text/plain": [
              "6"
            ]
          },
          "metadata": {},
          "execution_count": 14
        }
      ]
    },
    {
      "cell_type": "code",
      "source": [
        "t = tf.constant([\n",
        "\n",
        "    [\n",
        "\n",
        "         [2, 4, 4, 3] \n",
        "\n",
        "        ,[3, 2, 4, 5]\n",
        "\n",
        "    ]\n",
        "\n",
        "])\n",
        "t.shape"
      ],
      "metadata": {
        "colab": {
          "base_uri": "https://localhost:8080/"
        },
        "id": "h5U5jFkrbIuK",
        "outputId": "8a9d78c2-7eb3-4e47-d63e-eae67ff34a39"
      },
      "execution_count": 15,
      "outputs": [
        {
          "output_type": "execute_result",
          "data": {
            "text/plain": [
              "TensorShape([1, 2, 4])"
            ]
          },
          "metadata": {},
          "execution_count": 15
        }
      ]
    },
    {
      "cell_type": "code",
      "source": [],
      "metadata": {
        "id": "ozDTWJcNbhNB"
      },
      "execution_count": null,
      "outputs": []
    }
  ]
}